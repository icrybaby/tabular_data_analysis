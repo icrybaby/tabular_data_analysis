{
 "cells": [
  {
   "cell_type": "code",
   "execution_count": 1,
   "id": "4743c89c-b685-4c3a-84e4-6b4201ebd718",
   "metadata": {},
   "outputs": [],
   "source": [
    "import pandas\n",
    "import torch\n",
    "import matplotlib.pyplot as plt\n",
    "import seaborn as sns\n",
    "import ipywidgets as widgets\n",
    "import json\n",
    "import re\n",
    "import math"
   ]
  },
  {
   "cell_type": "code",
   "execution_count": 2,
   "id": "24ba3817-21a1-456f-be94-d499c51cdb5b",
   "metadata": {},
   "outputs": [],
   "source": [
    "numerical_cols, object_cols, features = [], [], []\n",
    "datarfame = pandas.DataFrame()"
   ]
  },
  {
   "cell_type": "code",
   "execution_count": 3,
   "id": "28a94cb0-dec0-43fe-a663-fc0f3037c841",
   "metadata": {},
   "outputs": [],
   "source": [
    "def data_clean(data):\n",
    "    data = re.sub('[^A-Za-z0-9.\\']+', \"\", data)\n",
    "    try:\n",
    "        num = float(data)\n",
    "        return num\n",
    "    except:\n",
    "        return data"
   ]
  },
  {
   "cell_type": "code",
   "execution_count": 4,
   "id": "269938ef-98c3-4c2f-b974-234f51b4110d",
   "metadata": {},
   "outputs": [],
   "source": [
    "def on_change(change):\n",
    "    if change['type'] == 'change' and change['name'] == 'value':\n",
    "        print(\"changed to %s\" % change['new'])"
   ]
  },
  {
   "cell_type": "code",
   "execution_count": 5,
   "id": "d967b88a-189f-4460-8574-375b829d4101",
   "metadata": {},
   "outputs": [],
   "source": [
    "def draw_graph(corr_matrix):\n",
    "    sns.set()\n",
    "    if numerical_cols:\n",
    "        print(\"heat map: \")\n",
    "        fig, ax = plt.subplots(figsize=(len(numerical_cols)*1.5, len(numerical_cols)*1.5))\n",
    "        ax = sns.heatmap(corr_matrix, vmin=-1, vmax=1, center=0, cmap=sns.diverging_palette(20, 220, n=200), square=True)\n",
    "        #ax.set_xticklabels(ax.get_xticklabels(), rotation=90, horizontalalignment='right')\n",
    "\n",
    "        print(\"numerical data distribution: \")\n",
    "        # fig, axes = plt.subplots(3, 2, sharex=True, figsize=(10,5))\n",
    "        for itr, col in enumerate(numerical_cols):\n",
    "            tmp_col = dataframe[col].dropna()\n",
    "            # plt.subplot(3, 2, itr+1)\n",
    "            sns.displot(tmp_col, palette=\"set1\", kde=True)\n",
    "    \n",
    "        with widget_graph_num:\n",
    "            display(plt.show())\n",
    "            \n",
    "    if object_cols:\n",
    "        i = 0\n",
    "        for col in object_cols:\n",
    "            pic_size, explode = [], []\n",
    "            labels = dataframe[col].unique()\n",
    "\n",
    "            if len(labels) < 11:\n",
    "                plt.figure(i)\n",
    "                for item in labels:\n",
    "                    explode.append(0.05)\n",
    "                    pic_size.append(round((len(dataframe[dataframe[col] == item])/len(dataframe))*100, 2))\n",
    "\n",
    "                plt.title(\"Ratio of data in field: \" + col)\n",
    "                plt.pie(pic_size, labels=labels, autopct='%1.1f%%', startangle=90, pctdistance=0.85, explode = explode)\n",
    "                centre_circle = plt.Circle((0, 0), 0.70, fc='white')\n",
    "                fig = plt.gcf()\n",
    "                fig.gca().add_artist(centre_circle)\n",
    "                plt.tight_layout()\n",
    "                i += 1\n",
    "    \n",
    "        with widget_graph_cat:\n",
    "            display(plt.show())"
   ]
  },
  {
   "cell_type": "code",
   "execution_count": 6,
   "id": "c9a0393c-1a06-4704-96c7-e71ae832ec40",
   "metadata": {},
   "outputs": [],
   "source": [
    "def start_process(change):\n",
    "    global features, dataframe\n",
    "    file_data = btn_upload.metadata\n",
    "    file_name = file_data[0]['name']\n",
    "    file_type = file_name.split(\".\")[-1]\n",
    "    \n",
    "    raw_data = btn_upload.data\n",
    "    input_list = str(raw_data[0]).split(\",\")\n",
    "    \n",
    "    input_list_cleaned, rows = [], []\n",
    "    element_length = len(input_list)\n",
    "    for element in input_list:\n",
    "        if \"\\\\n\" in element:\n",
    "            element = element.replace(\"\\\\r\", \"\")\n",
    "            pre, post = element.split(\"\\\\n\")\n",
    "            rows.append(data_clean(pre))\n",
    "            input_list_cleaned.append(rows.copy())\n",
    "            rows.clear()\n",
    "            rows.append(data_clean(post))\n",
    "        else:\n",
    "            rows.append(data_clean(element))\n",
    "    \n",
    "    input_list_cleaned[0][0] = str(input_list_cleaned[0][0]).replace(\"b'\", \"\")\n",
    "    features = input_list_cleaned.pop(0)\n",
    "    \n",
    "    dataframe = pandas.DataFrame(input_list_cleaned, columns=features)\n",
    "    with widget_data_describe:\n",
    "        display(dataframe.describe())\n",
    "    step2()"
   ]
  },
  {
   "cell_type": "code",
   "execution_count": 7,
   "id": "07409375-8d8d-414e-aad9-f437905ba22d",
   "metadata": {},
   "outputs": [],
   "source": [
    " def analyze(change):\n",
    "    target_column_name = dropdown.value\n",
    "    target_column = dataframe[target_column_name]\n",
    "    learning_type = \"Classification\" if dataframe[target_column_name].dtype == \"object\" else \"Classification\" if dataframe[target_column_name].sum() == math.ceil(dataframe[target_column_name].sum()) else \"Regression\"\n",
    "    with widget_process_type:\n",
    "        display(\"Analysed model type: \" + learning_type)\n",
    "    \n",
    "    corr_matrix = dataframe.corr()\n",
    "    with widget_corr_matrix:\n",
    "        display(corr_matrix)\n",
    "    \n",
    "    for feature in features:\n",
    "        numerical_cols.append(feature) if dataframe[feature].dtype == \"float64\" else object_cols.append(feature)\n",
    "    \n",
    "    draw_graph(corr_matrix)"
   ]
  },
  {
   "cell_type": "code",
   "execution_count": 8,
   "id": "2adbd697-ad1b-4eb2-b0fb-90e56a1462e3",
   "metadata": {},
   "outputs": [],
   "source": [
    "btn_upload = widgets.FileUpload()\n",
    "btn_run = widgets.Button(description='Process data')\n",
    "dropdown = widgets.Dropdown(options=['0', '1'], value='0', description='Target label: ')\n",
    "btn_run2 = widgets.Button(description='Analyze')\n",
    "btn_run.on_click(start_process)\n",
    "btn_run2.on_click(analyze)"
   ]
  },
  {
   "cell_type": "code",
   "execution_count": 9,
   "id": "114ec40e-0394-49cd-94f5-e6ed5dd2d3ca",
   "metadata": {},
   "outputs": [],
   "source": [
    "def step2():\n",
    "    global dropdown\n",
    "    dropdown = widgets.Dropdown(options=features, value=features[-1], description='Target label: ')\n",
    "    dropdown.observe(on_change)\n",
    "    with widget_dropdown:\n",
    "        display(dropdown)\n",
    "    \n",
    "    with widget_analyze:\n",
    "        display(btn_run2)"
   ]
  },
  {
   "cell_type": "code",
   "execution_count": 10,
   "id": "e0c212aa-1d63-4cc6-91f1-32f054e769fb",
   "metadata": {},
   "outputs": [
    {
     "data": {
      "application/vnd.jupyter.widget-view+json": {
       "model_id": "22e1c6856d784319acc4eaa3b544cc9a",
       "version_major": 2,
       "version_minor": 0
      },
      "text/plain": [
       "VBox(children=(FileUpload(value={}, description='Upload'), Button(description='Process data', style=ButtonStyl…"
      ]
     },
     "metadata": {},
     "output_type": "display_data"
    }
   ],
   "source": [
    "widget_data_describe = widgets.Output()\n",
    "widget_dropdown = widgets.Output()\n",
    "widget_process_type = widgets.Output()\n",
    "widget_corr_matrix = widgets.Output()\n",
    "widget_process_type = widgets.Output()\n",
    "widget_analyze = widgets.Output()\n",
    "widget_graph_num = widgets.Output()\n",
    "widget_graph_cat = widgets.Output()\n",
    "\n",
    "widgets.VBox([btn_upload, btn_run, widget_data_describe, widget_dropdown, widget_analyze, widget_process_type, widget_corr_matrix, widget_graph_num, widget_graph_cat])"
   ]
  }
 ],
 "metadata": {
  "kernelspec": {
   "display_name": "Python 3",
   "language": "python",
   "name": "python3"
  },
  "language_info": {
   "codemirror_mode": {
    "name": "ipython",
    "version": 3
   },
   "file_extension": ".py",
   "mimetype": "text/x-python",
   "name": "python",
   "nbconvert_exporter": "python",
   "pygments_lexer": "ipython3",
   "version": "3.9.5"
  }
 },
 "nbformat": 4,
 "nbformat_minor": 5
}
